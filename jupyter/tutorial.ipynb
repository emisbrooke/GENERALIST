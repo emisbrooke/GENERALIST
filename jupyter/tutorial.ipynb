{
 "cells": [
  {
   "cell_type": "markdown",
   "id": "81fb8cc9-5622-46c9-b3be-1fefc1f0e141",
   "metadata": {},
   "source": [
    "# GENERALIST \n",
    "In this notebook we can run GENERALIST to obtain the parameters $Z$ and $\\Theta$ that define the distribution from which the sequences are sampled"
   ]
  },
  {
   "cell_type": "markdown",
   "id": "30f30fe8-6c67-4c89-8de7-a832f003d7e5",
   "metadata": {},
   "source": [
    "## Run the inference "
   ]
  },
  {
   "cell_type": "markdown",
   "id": "74552918-fcfa-4587-9e2b-c4a032af4db7",
   "metadata": {},
   "source": [
    "## Generate data "
   ]
  },
  {
   "cell_type": "markdown",
   "id": "ba32ff0b-a8e9-42ba-b4d5-cb46d2111fa6",
   "metadata": {},
   "source": [
    "## Analysis"
   ]
  },
  {
   "cell_type": "markdown",
   "id": "36b91d54-2cd5-405b-b4b9-f94363624dbd",
   "metadata": {},
   "source": [
    "### Examine the statistics"
   ]
  },
  {
   "cell_type": "markdown",
   "id": "4f293809-8908-4f4e-9b0d-b37a84358342",
   "metadata": {},
   "source": [
    "### Examine the hamming distance"
   ]
  },
  {
   "cell_type": "code",
   "execution_count": null,
   "id": "c21e460a-b192-4c05-8491-9d28bded21af",
   "metadata": {},
   "outputs": [],
   "source": []
  }
 ],
 "metadata": {
  "kernelspec": {
   "display_name": "Python 3 (ipykernel)",
   "language": "python",
   "name": "python3"
  },
  "language_info": {
   "codemirror_mode": {
    "name": "ipython",
    "version": 3
   },
   "file_extension": ".py",
   "mimetype": "text/x-python",
   "name": "python",
   "nbconvert_exporter": "python",
   "pygments_lexer": "ipython3",
   "version": "3.9.7"
  }
 },
 "nbformat": 4,
 "nbformat_minor": 5
}
